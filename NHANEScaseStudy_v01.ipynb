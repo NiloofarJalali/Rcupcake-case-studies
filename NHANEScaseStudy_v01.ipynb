{
 "cells": [
  {
   "cell_type": "markdown",
   "metadata": {},
   "source": [
    "# Rcupcake: Case study on NHANES database\n",
    "\n",
    "\n",
    "\n",
    "## Introduction\n",
    "The National Health and Nutrition Examination Survey (NHANES) project of the Centers for Disease Control and Prevention (CDC)  has been one of the most impactful public health research projects of US. It has direct relevance to nutrition, pediatric growth, environmental exposures and even genetic components of health risk. NHANES comprises measurements over 41,474 individuals whore are selected to be demographically representative by CDC-sponsored researchers. \n",
    "\n",
    "\n",
    "## Main Goal\n",
    "Polychlorinated biphenyls (PCBs) are environmental pollutants that are detectable in the serum, being PCB 153 the one with the highest serum level. According to epidemiological studies, PCBs are known to be associated with different disorders. The goal of this study is to analyze whether different phenotype variables and phenotype co-occurrence are associated with PCB153 exposure. More specifically, we will answer the following questions:\n",
    "  1. How can we query NHANES data through the BD2K PIC-SURE API RESTful API using R?\n",
    "  2. What are the main demographic characteristics of our study population? \n",
    "  3. What are the main phenotypic characteristics of our study population? \n",
    "  4. Are the phenotype variables statistically related? \n",
    "  5. What are the phenotype co-occurrences of patients with PCB153 exposure? \n",
    "\n",
    "\n",
    "\n",
    "## Implementation\n",
    "\n",
    "### `Rcupcake` package\n",
    "The Rcupcake package enables the user to:\n",
    "1. Query through BD2K PIC-SURE RESTful API\n",
    "2. Explore the data from a demographic point of view\n",
    "3. Analyze the phenotype variables according to their different values, in terms of prevalence and co-occurrence\n",
    "4. Compare statistically each phenotype variable pairs\n",
    "5. Describe the phenotype co-occurrence according to the patient exposure, such as PCB153 exposure  \n",
    "\n",
    "\n",
    "## Installation\n",
    "\n",
    "The package `Rcupcake` is provided through GitHub. To install `Rcupcake` the user must type the following commands in an R session:"
   ]
  },
  {
   "cell_type": "code",
   "execution_count": null,
   "metadata": {
    "collapsed": false
   },
   "outputs": [],
   "source": [
    "library(devtools)\n",
    "install_github(\"hms-dbmi/Rcupcake\")\n",
    "library(knitr)\n",
    "library(Rcupcake)"
   ]
  },
  {
   "cell_type": "markdown",
   "metadata": {},
   "source": [
    "## Questions that can be answered using `Rcupcake`\n",
    "\n",
    "\n",
    "### Workflow\n",
    "In order to answer the different questions, the steps will be:\n",
    "\n",
    "1. Data retrieval\n",
    "3. Descriptive demographics analysis \n",
    "3. Descriptive phenotypic analysis \n",
    "4. Univariate analysis\n",
    "5. Phenotype co-occurrence: patients with exposure to PCB153\n",
    "\n",
    "\n",
    "\n",
    "\n",
    "  <section data-markdown>\n",
    "                    <img src=\"./nhanesWorkflow.png\" | width =300/>\n",
    "                </section>"
   ]
  },
  {
   "cell_type": "markdown",
   "metadata": {},
   "source": [
    "# 1. How can we query NHANES data through the BD2K PIC-SURE RESTful API using `Rcupcake`?\n",
    "\n",
    "We first select our study population: the subset of patients that have available data regarding the age. Then, we select the variables that we want to retrieve for our study population.\n",
    "* PCB153\n",
    "* Age\n",
    "* Gender\n",
    "* Diabetes\n",
    "* Arthritis\n",
    "* Liver cancer\n",
    "* Any cancer"
   ]
  },
  {
   "cell_type": "markdown",
   "metadata": {},
   "source": [
    "## 1.1 Start session\n",
    "The first step in order to retrieve the data of interest, is starting the session. `start.session` function of the `Rcupcake` package establishes the connection to the database. As input we need to determine the URL of the database (https://nhanes.hms.harvard.edu/) and the key to access the data. A key is provided in this case study to test it. "
   ]
  },
  {
   "cell_type": "code",
   "execution_count": null,
   "metadata": {
    "collapsed": false
   },
   "outputs": [],
   "source": [
    "sessionEx <- start.session( \n",
    "              url         = \"https://nhanes.hms.harvard.edu/\", \n",
    "              apiKey      = \"h4natfi4rh4hv8j2pqtug14pe9\"\n",
    "              )\n",
    "sessionEx"
   ]
  },
  {
   "cell_type": "markdown",
   "metadata": {},
   "source": [
    "Once the connexion has been established the output message will be: _'Start Session: success'_, otherwise the next message will appear: _'Start Session: failed. Please revise your url and apiKey'_. \n",
    "\n",
    "## 1.2 Get children paths\n",
    "The second step consists of retrieving the paths of the location of our variables of interest are located. This step will allow us to create the JSON query to retrieve the data. For this case study, we know that age and gender variables are under the demographics' folder, the PCB153 is under the laboratory/pcb folder and the phenotypes of interest are under the \"/questionnaire/disease\" path. \n",
    "\n",
    "In order to retrieve the paths, we apply the 'get.children' function, determining for each case, the URL of the database (https://nhanes.hms.harvard.edu/) and the field name to access the data. At the end we will create one unique vector (_nhanesVector_) with the three previous ones. "
   ]
  },
  {
   "cell_type": "code",
   "execution_count": null,
   "metadata": {
    "collapsed": false
   },
   "outputs": [],
   "source": [
    "nhanesDisease <- get.children( \n",
    "   url         = \"https://nhanes.hms.harvard.edu/\", \n",
    "   fieldname   = \"/nhanes/Demo/questionnaire/questionnaire/disease/\"\n",
    "  )\n",
    "\n",
    "nhanesDemographicPath <- get.children( \n",
    "   url         = \"https://nhanes.hms.harvard.edu/\", \n",
    "   fieldname   = \"/nhanes/Demo/demographics/demographics/\"\n",
    "  )\n",
    "\n",
    "nhanesPcb <- get.children( \n",
    "   url         = \"https://nhanes.hms.harvard.edu/\", \n",
    "   fieldname   = \"/nhanes/Demo/laboratory/laboratory/pcbs/\"\n",
    "  )\n",
    "\n",
    "nhanesVector <- c( nhanesDisease, nhanesDemographicPath, nhanesPcb)\n",
    "head(nhanesVector)"
   ]
  },
  {
   "cell_type": "markdown",
   "metadata": {},
   "source": [
    "## 1.3 Build the JSON query\n",
    "Once the paths are retrieved, we can create the JSON query to retrieve the variables of interest. We apply the `my.query` function. The `my.query` function uses as input the URL of the database (https://nhanes.hms.harvard.edu/), the vector  with the `get.children` function output and a vector with the variables of interest. \n",
    "\n",
    "__Note that the first variable of the `myfield` vector will be the one that will be used for the where clause. In this example we want the subset of patients that have available data regarding the age, for this reason the AGE variable is put in first place__\n"
   ]
  },
  {
   "cell_type": "code",
   "execution_count": null,
   "metadata": {
    "collapsed": false
   },
   "outputs": [],
   "source": [
    "queryExample <- my.query( myfields  = \"AGE|PCB153|SEX|liver_cancer_self_report|Any Diabetes|Ever arthritis?|Any cancer or malignancy?\", \n",
    "                          myvector  = nhanesVector, \n",
    "                          url       = \"https://nhanes.hms.harvard.edu/\"\n",
    "              )\n",
    "queryExample"
   ]
  },
  {
   "cell_type": "markdown",
   "metadata": {},
   "source": [
    "## 1.4 Run the query\n",
    "The last step to retrieve the data consists of applying the `my.data` function to the JSON query. Given the URL of the database (https://nhanes.hms.harvard.edu/) and the JSON query, it generates a `data.frame` object with the query output. We have to select the output format and the path where the output will be located. Remember that by default it will be saved in the working directory. "
   ]
  },
  {
   "cell_type": "code",
   "execution_count": null,
   "metadata": {
    "collapsed": false
   },
   "outputs": [],
   "source": [
    "query <- my.data( \n",
    "    query          = queryExample,\n",
    "    url            = \"https://nhanes.hms.harvard.edu/\", \n",
    "    responseFormat = \"CSV\", \n",
    "    outputPath     = \"./dataNHANES.txt\")\n"
   ]
  },
  {
   "cell_type": "markdown",
   "metadata": {},
   "source": [
    "## 1.5 Transform the data.frame in `cupcakeData` object Run the query\n",
    "Once the data is in a `data.frame` format, it has to be transformed into a `cupcakeData` class object in order to be analyzed with the `Rcupcake` package. Note that our example data contains:\n",
    "  - 3 demographic variables: patient_id, Gender and Age. \n",
    "  - 4 phenotype variables: diabetes, arthritis, liver cancer and any cancer. \n",
    "  - 1 variation variable: PCB153\n",
    "  \n",
    "In order to transform the data.frame into a `cupcakeData` object, we apply the `dataframe2cupcake` function. We need to specified:\n",
    "\n",
    "  - `input`: that determines the file with the complete path where the required input file is located. \n",
    "  - `phenotypes`: vector that contains phenotype variables, separated by \"|\". \n",
    "  - `variants`: vector that contains the names of variations, separated by \"|\". \n",
    "  - `age`: vector that contains the age variable name. \n",
    "  - `gender`: vector that contains the gender variable name."
   ]
  },
  {
   "cell_type": "code",
   "execution_count": null,
   "metadata": {
    "collapsed": false
   },
   "outputs": [],
   "source": [
    "data2b2 <- dataframe2cupcake( input = \"./dataNHANES.txt\",\n",
    "                              age        = \"AGE\",\n",
    "                              gender     = \"SEX\",\n",
    "                              phenotypes = \"Diabetes|arthritis|liver_cancer|Any.cancer\",\n",
    "                              variants   = \"PCB153\",\n",
    "                              verbose    = TRUE)"
   ]
  },
  {
   "cell_type": "code",
   "execution_count": null,
   "metadata": {
    "collapsed": false
   },
   "outputs": [],
   "source": [
    "data2b2"
   ]
  },
  {
   "cell_type": "markdown",
   "metadata": {},
   "source": [
    "The __data2b2__ object generated is a __cupcakeData__ object that shows the number of patients (41,474 in this case), the number of phenotypes we are studying (4 in this case) and the number of variations (1 in this case). If we want to see how the data looks like we can apply the __extract__ function as follows. "
   ]
  },
  {
   "cell_type": "code",
   "execution_count": null,
   "metadata": {
    "collapsed": false
   },
   "outputs": [],
   "source": [
    "head( extract( data2b2 ) )"
   ]
  },
  {
   "cell_type": "markdown",
   "metadata": {},
   "source": [
    "As we can see the variation variable contains NA and numerical values. We will transform it into a binary variable, applying the next code:"
   ]
  },
  {
   "cell_type": "code",
   "execution_count": null,
   "metadata": {
    "collapsed": false
   },
   "outputs": [],
   "source": [
    "data2b2@iresult$V.PCB153 <- ifelse( is.na(data2b2@iresult$V.PCB153), \"no\", \"yes\" )\n",
    "summary(as.factor(data2b2@iresult$V.PCB153))\n",
    "head( extract( data2b2 ) )"
   ]
  },
  {
   "cell_type": "markdown",
   "metadata": {},
   "source": [
    "# 2. Descriptive demographics analysis with __Rcupcake__\n",
    "\n",
    "Now that we have extracted the data, we can start our analysis.\n",
    "We will first analyze the demographic variables. The function __demographic.summary__ describes the demographic characteristics (sex, age) of our study population   \n",
    "\n",
    "Using as input:  \n",
    "* input: the _data2b2_ object that we have generated applying the _dataframe2cupcake_ function.\n",
    "* maleCode: the symbol which denotes males, in this case _male_\n",
    "* femaleCode: the symbol which denotes females, in this case _female_\n",
    "\n",
    "As output we retrieve:  \n",
    "* A barplot with the age distribution of the whole study population. We can see how in this case our population age goes from 0 to 85 years old. \n",
    "* A pie chart representing the gender distribution. In this case, we have almost the same proportion of males and females. \n",
    "* A boxplot showing the age distribution by gender.\n"
   ]
  },
  {
   "cell_type": "code",
   "execution_count": null,
   "metadata": {
    "collapsed": false
   },
   "outputs": [],
   "source": [
    "demographic.summary (input       = data2b2, \n",
    "                    maleCode    = \"male\", \n",
    "                    femaleCode  =\"female\")\n",
    "summary(as.numeric(data2b2@iresult$Age))"
   ]
  },
  {
   "cell_type": "markdown",
   "metadata": {},
   "source": [
    "# 3. Descriptive phenotypic analysis with __Rcupcake__\n",
    "\n",
    "The function __phenotype.summary__ performs a descriptive analysis of the phenotypic variables for the whole study population in general, and according to the status of one selected variation.    \n",
    "\n",
    "The __phenotype.summary__ function requires 2 arguments:  \n",
    "* input: the _data2b2_ object, that is a _cupcakeData_ object generated applying the _dataframe2cupcake_ function.\n",
    "* variation: determines the variation of interest, in this case the exposure or not to PCB153.\n",
    "\n",
    "Although the function can show the results as figures and tables, for this case study, we will only retrieve the table. We will set the _showTable_ argument to TRUE and the _showFigure_ one to FALSE. \n"
   ]
  },
  {
   "cell_type": "code",
   "execution_count": null,
   "metadata": {
    "collapsed": false
   },
   "outputs": [],
   "source": [
    "phenotype.summary( input      = data2b2,\n",
    "                   variation  = \"PCB153\", \n",
    "                   showTable  = TRUE, \n",
    "                   showFigure = FALSE)"
   ]
  },
  {
   "cell_type": "markdown",
   "metadata": {},
   "source": [
    "# 4. Univariate analysis with __Rcupcake__\n",
    "\n",
    "The Rcupcake package also allows to perform a comparison two by two of a pair of variables in the _cupcakeData_ object by applying the __comparison2b2__ function. Applying this function we can easily see that:\n",
    "    \n",
    "- there is statistically significant association between having diabetes and the PCB153 exposure (p-value 1.504e-06) in NHANES population\n",
    "- there is not statistically significant association between having arthritis and the PCB153 exposure (p-value  0.8105) in the same population."
   ]
  },
  {
   "cell_type": "code",
   "execution_count": null,
   "metadata": {
    "collapsed": false
   },
   "outputs": [],
   "source": [
    "comparison2b2( \n",
    "    input     = data2b2, \n",
    "    variable1 = \"P.Diabetes\",\n",
    "    variable2 = \"V.PCB153\"\n",
    ")"
   ]
  },
  {
   "cell_type": "code",
   "execution_count": null,
   "metadata": {
    "collapsed": false
   },
   "outputs": [],
   "source": [
    "comparison2b2( \n",
    "    input     = data2b2, \n",
    "    variable1 = \"P.arthritis\",\n",
    "    variable2 = \"V.PCB153\"\n",
    ")"
   ]
  },
  {
   "cell_type": "markdown",
   "metadata": {},
   "source": [
    "# 5. Phenotypes co-occurrence and prevalence using __Rcupcake__: patients with PCB153 exposure\n",
    "\n",
    "Now that we have a general overview of the patients and the phenotypes we will analyze the co-occurrence between the phenotypes according the exposure status. We will apply the __co.occurrence__ function that identifies all the possible phenotype co-occurrence and quantify them according to five different quantification measures, fisher test, comorbidity score, relative risk, pearson correlation and odds ratio. \n",
    "\n",
    "_Note that according to the type of study, the user can select the co-occurence measures needed as well as the cut-off value. As a result of the phenotype co-occurrence analysis, a table containing the different-estimated measurements is obtained._\n",
    "\n",
    "\n",
    "The __co.occurrence__ function requires 6 arguments:  \n",
    "* input: the __cupcakeData__ object, the _data2b2_ in this case. \n",
    "* pth: the path where the file with the phenotype values generated previously is located.\n",
    "* aggregate: if all the possible phenotype values want to be considered individually, aggregate must be FALSE. Otherwhise, the phenotype values should be manually completed by the user (column yes/no) and aggregate must be TRUE. In this case we will leave this argument as FALSE because all our phenotypes are yes/no, or nothing when no information is available for the phenotype.\n",
    "* ageRange: determines what is the age range of interest for performing the analysis, in this case we will select all the patients, so we put from 0 to 85, that we have seen that is the age range of our population set. \n",
    "* gender: determine what is the gender of interest for the co-occurrence analysis, in this case \"ALL\", because we do not want to distinghis between male and female in this study.\n",
    "* variation: determine the variation of interest and its value, in this case PCB153 and yes, because we are interested in those patients that have been exposed to the PCB153.\n",
    "\n",
    "The __co.occurrence__ function output is a *_cupcakeResults_* object. This object shows us the conditions we have selected for the analysis, male and female from 0 to 85 years old and with exposure to PCB153. It also show us a summary of the phenotype co-occurrence results, the prevalence of our disease of interest, the number of patients that have exposure to PCB153 in our data set, the range of co-occurrence measures and the number of comorbidities, in this case 43. "
   ]
  },
  {
   "cell_type": "code",
   "execution_count": null,
   "metadata": {
    "collapsed": false
   },
   "outputs": [],
   "source": [
    "genophenoComorPCB153yes <- co.occurrence( \n",
    "              input         = data2b2,\n",
    "              pth           = \".\",\n",
    "              aggregate    = FALSE, \n",
    "              ageRange      = c(0,85),\n",
    "              gender        = \"ALL\", \n",
    "              variation      = c(\"PCB153\", \"yes\")\n",
    "              )\n",
    "genophenoComorPCB153yes"
   ]
  },
  {
   "cell_type": "markdown",
   "metadata": {},
   "source": [
    "If we want to retrieve that table with the specific result for each phenotype co-occurrence, we can apply the _extract_ function to the _cupcakeResults_ object, as follows. Detailed information for each case is contained in this table. "
   ]
  },
  {
   "cell_type": "code",
   "execution_count": null,
   "metadata": {
    "collapsed": false
   },
   "outputs": [],
   "source": [
    "head(extract(genophenoComorPCB153yes))"
   ]
  },
  {
   "cell_type": "markdown",
   "metadata": {},
   "source": [
    "Visualizing the results is also possible with the _cooc.heatmap_ and _cooc.network_ functions available in the __Rcupcake__ package. For this example, we will apply the  _cooc.heatmap_  function to visualize those phenotype co-occurrences that appear in at least 10% of the patients. \n",
    "\n",
    "The __cooc.heatmap__ function requires 3 arguments:  \n",
    "* input: the _genophenoComorPCB153yes_ object\n",
    "* representedVariable: the co-occurence measurement \n",
    "* variableCutOff: the numeral value of the cutOff\n",
    "\n",
    "The __cooc.heatmap__ function output is a heatmap. Blue color represents the lower values,  yellow color represents the upper values. The _representedVariable_ value is shown in each cell. "
   ]
  },
  {
   "cell_type": "code",
   "execution_count": null,
   "metadata": {
    "collapsed": false
   },
   "outputs": [],
   "source": [
    "htmp <- cooc.heatmap( input               = genophenoComorPCB153yes,\n",
    "                      representedVariable = \"PercentagePhenoAB\", \n",
    "                      variableCutOff      = 10, \n",
    "                      lowColor            = \"blue\", \n",
    "                      highColor           = \"yellow\")\n",
    "\n",
    "htmp"
   ]
  }
 ],
 "metadata": {
  "kernelspec": {
   "display_name": "R",
   "language": "R",
   "name": "ir"
  },
  "language_info": {
   "codemirror_mode": "r",
   "file_extension": ".r",
   "mimetype": "text/x-r-source",
   "name": "R",
   "pygments_lexer": "r",
   "version": "3.3.1"
  }
 },
 "nbformat": 4,
 "nbformat_minor": 0
}
